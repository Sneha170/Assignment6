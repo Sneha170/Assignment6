{
 "cells": [
  {
   "cell_type": "code",
   "execution_count": 1,
   "id": "2c413bc8",
   "metadata": {},
   "outputs": [
    {
     "name": "stdout",
     "output_type": "stream",
     "text": [
      "Enter a number :24\n",
      "24  *  1  =  24\n",
      "24  *  2  =  48\n",
      "24  *  3  =  72\n",
      "24  *  4  =  96\n",
      "24  *  5  =  120\n",
      "24  *  6  =  144\n",
      "24  *  7  =  168\n",
      "24  *  8  =  192\n",
      "24  *  9  =  216\n",
      "24  *  10  =  240\n"
     ]
    }
   ],
   "source": [
    "i=1\n",
    "num=int(input(\"Enter a number :\"))\n",
    "while i<=10:\n",
    "    print(num,\" * \",i,\" = \",num*i)\n",
    "    i+=1"
   ]
  },
  {
   "cell_type": "code",
   "execution_count": 1,
   "id": "1b341072",
   "metadata": {},
   "outputs": [
    {
     "name": "stdout",
     "output_type": "stream",
     "text": [
      "Enter a number :50\n",
      "50  *  1  =  50\n",
      "50  *  2  =  100\n",
      "50  *  3  =  150\n",
      "50  *  4  =  200\n",
      "50  *  5  =  250\n",
      "50  *  6  =  300\n",
      "50  *  7  =  350\n",
      "50  *  8  =  400\n",
      "50  *  9  =  450\n",
      "50  *  10  =  500\n"
     ]
    }
   ],
   "source": [
    "i=1\n",
    "num=int(input(\"Enter a number :\"))\n",
    "while i<=10:\n",
    "    print(num,\" * \",i,\" = \",num*i)\n",
    "    i+=1"
   ]
  },
  {
   "cell_type": "code",
   "execution_count": 2,
   "id": "b60a73fb",
   "metadata": {},
   "outputs": [
    {
     "name": "stdout",
     "output_type": "stream",
     "text": [
      "Enter a number :29\n",
      "29  *  1  =  29\n",
      "29  *  2  =  58\n",
      "29  *  3  =  87\n",
      "29  *  4  =  116\n",
      "29  *  5  =  145\n",
      "29  *  6  =  174\n",
      "29  *  7  =  203\n",
      "29  *  8  =  232\n",
      "29  *  9  =  261\n",
      "29  *  10  =  290\n"
     ]
    }
   ],
   "source": [
    "i=1\n",
    "num=int(input(\"Enter a number :\"))\n",
    "while i<=10:\n",
    "    print(num,\" * \",i,\" = \",num*i)\n",
    "    i+=1"
   ]
  },
  {
   "cell_type": "code",
   "execution_count": null,
   "id": "f2268cbb",
   "metadata": {},
   "outputs": [],
   "source": []
  }
 ],
 "metadata": {
  "kernelspec": {
   "display_name": "Python 3 (ipykernel)",
   "language": "python",
   "name": "python3"
  },
  "language_info": {
   "codemirror_mode": {
    "name": "ipython",
    "version": 3
   },
   "file_extension": ".py",
   "mimetype": "text/x-python",
   "name": "python",
   "nbconvert_exporter": "python",
   "pygments_lexer": "ipython3",
   "version": "3.9.13"
  }
 },
 "nbformat": 4,
 "nbformat_minor": 5
}
