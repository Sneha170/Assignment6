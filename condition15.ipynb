{
 "cells": [
  {
   "cell_type": "code",
   "execution_count": 10,
   "id": "ba5ebe2f",
   "metadata": {},
   "outputs": [
    {
     "name": "stdout",
     "output_type": "stream",
     "text": [
      "Enter the character :y\n",
      "Enter the number :56\n",
      "Enter q to quit and continue\n",
      "Enter the character :u\n",
      "Enter the number :67\n",
      "Enter q to quit and continue\n",
      "Enter the character :q\n",
      "Average is : 61.5\n",
      "product is : 3752\n"
     ]
    }
   ],
   "source": [
    "str=input(\"Enter the character :\")\n",
    "sum=0\n",
    "i=1\n",
    "prod=1\n",
    "while (str!='q'):\n",
    "    n=int(input(\"Enter the number :\"))\n",
    "    sum=(sum+n)/i\n",
    "    i+=1\n",
    "    prod*=n\n",
    "    print(\"Enter q to quit and continue\")\n",
    "    str=input(\"Enter the character :\")\n",
    "    if(str=='q'):\n",
    "        break\n",
    "print(\"Average is :\",sum)\n",
    "print(\"product is :\",prod)"
   ]
  },
  {
   "cell_type": "code",
   "execution_count": null,
   "id": "931a2339",
   "metadata": {},
   "outputs": [],
   "source": []
  },
  {
   "cell_type": "code",
   "execution_count": null,
   "id": "eebef592",
   "metadata": {},
   "outputs": [],
   "source": []
  }
 ],
 "metadata": {
  "kernelspec": {
   "display_name": "Python 3 (ipykernel)",
   "language": "python",
   "name": "python3"
  },
  "language_info": {
   "codemirror_mode": {
    "name": "ipython",
    "version": 3
   },
   "file_extension": ".py",
   "mimetype": "text/x-python",
   "name": "python",
   "nbconvert_exporter": "python",
   "pygments_lexer": "ipython3",
   "version": "3.9.13"
  }
 },
 "nbformat": 4,
 "nbformat_minor": 5
}
