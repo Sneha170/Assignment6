{
 "cells": [
  {
   "cell_type": "code",
   "execution_count": 3,
   "id": "dcc77609",
   "metadata": {},
   "outputs": [
    {
     "name": "stdout",
     "output_type": "stream",
     "text": [
      "Enter number of classes :36\n",
      "Enter number of classes present30\n",
      "Percentage is  83.33333333333334\n",
      "Student allowed to sit for exam \n"
     ]
    }
   ],
   "source": [
    "a=int(input(\"Enter number of classes :\"))\n",
    "b=int(input(\"Enter number of classes present\"))\n",
    "p=(b/a)*100\n",
    "if(p>=75):\n",
    "    print(\"Percentage is \",p)\n",
    "    print(\"Student allowed to sit for exam \")\n",
    "else:\n",
    "    print(\"Percentage is \",p)\n",
    "    print(\"Student ia not allowed to sit for exam \")\n"
   ]
  },
  {
   "cell_type": "code",
   "execution_count": null,
   "id": "3c6bbde7",
   "metadata": {},
   "outputs": [],
   "source": []
  }
 ],
 "metadata": {
  "kernelspec": {
   "display_name": "Python 3 (ipykernel)",
   "language": "python",
   "name": "python3"
  },
  "language_info": {
   "codemirror_mode": {
    "name": "ipython",
    "version": 3
   },
   "file_extension": ".py",
   "mimetype": "text/x-python",
   "name": "python",
   "nbconvert_exporter": "python",
   "pygments_lexer": "ipython3",
   "version": "3.9.13"
  }
 },
 "nbformat": 4,
 "nbformat_minor": 5
}
