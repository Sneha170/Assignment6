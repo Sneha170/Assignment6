{
 "cells": [
  {
   "cell_type": "code",
   "execution_count": 2,
   "id": "9676913d",
   "metadata": {},
   "outputs": [
    {
     "name": "stdout",
     "output_type": "stream",
     "text": [
      "Enter the length: 7\n",
      "Enter the breadt: 6\n",
      "Rectangle is not a square\n"
     ]
    }
   ],
   "source": [
    "x=int(input(\"Enter the length: \"))\n",
    "y=int(input(\"Enter the breadt: \"))\n",
    "if x==y:\n",
    "    print(\"Rectangle is square \")\n",
    "else:\n",
    "    print(\"Rectangle is not a square\")"
   ]
  },
  {
   "cell_type": "code",
   "execution_count": 3,
   "id": "53e0f018",
   "metadata": {},
   "outputs": [
    {
     "name": "stdout",
     "output_type": "stream",
     "text": [
      "Enter the length: 9\n",
      "Enter the breadt: 9\n",
      "Rectangle is square \n"
     ]
    }
   ],
   "source": [
    "x=int(input(\"Enter the length: \"))\n",
    "y=int(input(\"Enter the breadt: \"))\n",
    "if x==y:\n",
    "    print(\"Rectangle is square \")\n",
    "else:\n",
    "    print(\"Rectangle is not a square\")"
   ]
  },
  {
   "cell_type": "code",
   "execution_count": null,
   "id": "5643d58d",
   "metadata": {},
   "outputs": [],
   "source": []
  }
 ],
 "metadata": {
  "kernelspec": {
   "display_name": "Python 3 (ipykernel)",
   "language": "python",
   "name": "python3"
  },
  "language_info": {
   "codemirror_mode": {
    "name": "ipython",
    "version": 3
   },
   "file_extension": ".py",
   "mimetype": "text/x-python",
   "name": "python",
   "nbconvert_exporter": "python",
   "pygments_lexer": "ipython3",
   "version": "3.9.13"
  }
 },
 "nbformat": 4,
 "nbformat_minor": 5
}
