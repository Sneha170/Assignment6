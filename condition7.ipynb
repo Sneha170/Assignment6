{
 "cells": [
  {
   "cell_type": "code",
   "execution_count": 2,
   "id": "966f0003",
   "metadata": {},
   "outputs": [
    {
     "name": "stdout",
     "output_type": "stream",
     "text": [
      "7\n"
     ]
    }
   ],
   "source": [
    "def count_range(li,min,max):\n",
    "    ctr=0\n",
    "    for x in li:\n",
    "        if min<=x<=max:\n",
    "            ctr+=1\n",
    "    return ctr\n",
    "li=[2,43,30,56,54,34,76,89,90]\n",
    "print(count_range(li,31,100))"
   ]
  },
  {
   "cell_type": "code",
   "execution_count": null,
   "id": "b8b438f0",
   "metadata": {},
   "outputs": [],
   "source": []
  }
 ],
 "metadata": {
  "kernelspec": {
   "display_name": "Python 3 (ipykernel)",
   "language": "python",
   "name": "python3"
  },
  "language_info": {
   "codemirror_mode": {
    "name": "ipython",
    "version": 3
   },
   "file_extension": ".py",
   "mimetype": "text/x-python",
   "name": "python",
   "nbconvert_exporter": "python",
   "pygments_lexer": "ipython3",
   "version": "3.9.13"
  }
 },
 "nbformat": 4,
 "nbformat_minor": 5
}
