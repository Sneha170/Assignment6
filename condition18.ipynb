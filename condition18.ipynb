{
 "cells": [
  {
   "cell_type": "code",
   "execution_count": 9,
   "id": "ab9573e4",
   "metadata": {},
   "outputs": [
    {
     "name": "stdout",
     "output_type": "stream",
     "text": [
      "list : []\n",
      "Numbers divisible by 4 : [4, 8, 12, 16, 20, 24, 28, 32, 36, 40, 44, 48, 52, 56, 60, 64, 68, 72, 76, 80, 84, 88, 92, 96, 100]\n",
      "Numbers divisible by 6 : [6, 12, 18, 24, 30, 36, 42, 48, 54, 60, 66, 72, 78, 84, 90, 96]\n",
      "Numbers divisible by 8 : [8, 16, 24, 32, 40, 48, 56, 64, 72, 80, 88, 96]\n",
      "Numbers divisible by 3 : [3, 6, 9, 12, 15, 18, 21, 24, 27, 30, 33, 36, 39, 42, 45, 48, 51, 54, 57, 60, 63, 66, 69, 72, 75, 78, 81, 84, 87, 90, 93, 96, 99]\n",
      "Numbers divisible by 5: [5, 10, 15, 20, 25, 30, 35, 40, 45, 50, 55, 60, 65, 70, 75, 80, 85, 90, 95, 100]\n",
      "Numbers divisible by 7 : [7, 14, 21, 28, 35, 42, 49, 56, 63, 70, 77, 84, 91, 98]\n",
      "Numbers divisible by 9 : [9, 18, 27, 36, 45, 54, 63, 72, 81, 90, 99]\n"
     ]
    }
   ],
   "source": [
    "lst1=[]\n",
    "lst2=[]\n",
    "lst3=[]\n",
    "lst4=[]\n",
    "lst5=[]\n",
    "lst6=[]\n",
    "lst7=[]\n",
    "lst=[]\n",
    "even=[]\n",
    "odd=[]\n",
    "for num in range(1,101):\n",
    "    if (num%2==0):\n",
    "        even.append(num)\n",
    "    if (num%2!=0):\n",
    "        odd.append(num)\n",
    "    if(num%4==0)and (num%6==0) and(num%8==0) and(num%10==0)and (num%3==0)and(num%5==0)and (num%7==0)and(num%9==0):\n",
    "        lst.append(num)\n",
    "print(\"list :\",lst)\n",
    "for x in range(1,101):\n",
    "    if (x%4==0):\n",
    "        lst1.append(x)\n",
    "print(\"Numbers divisible by 4 :\",lst1)\n",
    "for x in range(1,101):\n",
    "    if (x%6==0):\n",
    "        lst2.append(x)\n",
    "print(\"Numbers divisible by 6 :\",lst2)\n",
    "for x in range(1,101):\n",
    "    if (x%8==0):\n",
    "        lst3.append(x)\n",
    "print(\"Numbers divisible by 8 :\",lst3)\n",
    "for x in range(1,101):\n",
    "    if (x%3==0):\n",
    "        lst4.append(x)\n",
    "print(\"Numbers divisible by 3 :\",lst4)\n",
    "for x in range(1,101):\n",
    "    if (x%5==0):\n",
    "        lst5.append(x)\n",
    "print(\"Numbers divisible by 5:\",lst5)\n",
    "for x in range(1,101):\n",
    "    if (x%7==0):\n",
    "        lst6.append(x)\n",
    "print(\"Numbers divisible by 7 :\",lst6)\n",
    "for x in range(1,101):\n",
    "    if (x%9==0):\n",
    "        lst7.append(x)\n",
    "print(\"Numbers divisible by 9 :\",lst7)\n"
   ]
  },
  {
   "cell_type": "code",
   "execution_count": null,
   "id": "4dd6e644",
   "metadata": {},
   "outputs": [],
   "source": []
  },
  {
   "cell_type": "code",
   "execution_count": null,
   "id": "387e7dea",
   "metadata": {},
   "outputs": [],
   "source": []
  }
 ],
 "metadata": {
  "kernelspec": {
   "display_name": "Python 3 (ipykernel)",
   "language": "python",
   "name": "python3"
  },
  "language_info": {
   "codemirror_mode": {
    "name": "ipython",
    "version": 3
   },
   "file_extension": ".py",
   "mimetype": "text/x-python",
   "name": "python",
   "nbconvert_exporter": "python",
   "pygments_lexer": "ipython3",
   "version": "3.9.13"
  }
 },
 "nbformat": 4,
 "nbformat_minor": 5
}
