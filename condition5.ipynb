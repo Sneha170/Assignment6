{
 "cells": [
  {
   "cell_type": "code",
   "execution_count": 3,
   "id": "2d4cdbab",
   "metadata": {},
   "outputs": [
    {
     "name": "stdout",
     "output_type": "stream",
     "text": [
      "input numbers\n",
      "34\n",
      "44\n",
      "87\n",
      "9\n",
      "0\n",
      "average and sum of the above numbers are :  43.5 ,  174.0\n"
     ]
    }
   ],
   "source": [
    "print(\"input numbers\")\n",
    "count=0\n",
    "sum=0.0\n",
    "number=1\n",
    "while number!=0:\n",
    "    number=int(input(\"\"))\n",
    "    sum=sum+number\n",
    "    count+=1\n",
    "if count==0:\n",
    "    print('input some numbers')\n",
    "else:\n",
    "    print(\"average and sum of the above numbers are : \",sum/(count-1),\", \",sum)"
   ]
  },
  {
   "cell_type": "code",
   "execution_count": null,
   "id": "ee2aa9bc",
   "metadata": {},
   "outputs": [],
   "source": []
  }
 ],
 "metadata": {
  "kernelspec": {
   "display_name": "Python 3 (ipykernel)",
   "language": "python",
   "name": "python3"
  },
  "language_info": {
   "codemirror_mode": {
    "name": "ipython",
    "version": 3
   },
   "file_extension": ".py",
   "mimetype": "text/x-python",
   "name": "python",
   "nbconvert_exporter": "python",
   "pygments_lexer": "ipython3",
   "version": "3.9.13"
  }
 },
 "nbformat": 4,
 "nbformat_minor": 5
}
