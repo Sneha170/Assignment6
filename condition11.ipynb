{
 "cells": [
  {
   "cell_type": "code",
   "execution_count": 1,
   "id": "f33e4c2d",
   "metadata": {},
   "outputs": [
    {
     "name": "stdout",
     "output_type": "stream",
     "text": [
      "Enter the marks :65\n",
      "Grade is B\n"
     ]
    }
   ],
   "source": [
    "marks=int(input(\"Enter the marks :\"))\n",
    "if(marks<25):\n",
    "    print(\"Grade is F\")\n",
    "elif (marks>=25)and (marks<45):\n",
    "    print(\"Grade is E\")\n",
    "elif (marks>=45)and (marks<50):\n",
    "    print(\"Grade is D\")\n",
    "elif (marks>=50)and (marks<60):\n",
    "    print(\"Grade is C\")\n",
    "elif (marks>=60)and (marks<80):\n",
    "    print(\"Grade is B\")\n",
    "elif (marks>=80)and (marks<100):\n",
    "    print(\"Grade is E\")\n",
    "else:\n",
    "    print(\"Incorrect marks\")"
   ]
  },
  {
   "cell_type": "code",
   "execution_count": null,
   "id": "1692bd31",
   "metadata": {},
   "outputs": [],
   "source": []
  }
 ],
 "metadata": {
  "kernelspec": {
   "display_name": "Python 3 (ipykernel)",
   "language": "python",
   "name": "python3"
  },
  "language_info": {
   "codemirror_mode": {
    "name": "ipython",
    "version": 3
   },
   "file_extension": ".py",
   "mimetype": "text/x-python",
   "name": "python",
   "nbconvert_exporter": "python",
   "pygments_lexer": "ipython3",
   "version": "3.9.13"
  }
 },
 "nbformat": 4,
 "nbformat_minor": 5
}
