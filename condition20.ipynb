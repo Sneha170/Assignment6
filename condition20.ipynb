{
 "cells": [
  {
   "cell_type": "code",
   "execution_count": 1,
   "id": "1b2633d1",
   "metadata": {},
   "outputs": [
    {
     "name": "stdout",
     "output_type": "stream",
     "text": [
      "original list  [1, 2, 3, 4]\n",
      "Square of list Elements: [1, 4, 9, 16]\n"
     ]
    }
   ],
   "source": [
    "list1=[1,2,3,4]\n",
    "print(\"original list \",list1)\n",
    "list2=[]\n",
    "for i in list1:\n",
    "    list2.append(i**2)\n",
    "print(\"Square of list Elements:\", list2)"
   ]
  },
  {
   "cell_type": "code",
   "execution_count": null,
   "id": "81964cb1",
   "metadata": {},
   "outputs": [],
   "source": []
  }
 ],
 "metadata": {
  "kernelspec": {
   "display_name": "Python 3 (ipykernel)",
   "language": "python",
   "name": "python3"
  },
  "language_info": {
   "codemirror_mode": {
    "name": "ipython",
    "version": 3
   },
   "file_extension": ".py",
   "mimetype": "text/x-python",
   "name": "python",
   "nbconvert_exporter": "python",
   "pygments_lexer": "ipython3",
   "version": "3.9.13"
  }
 },
 "nbformat": 4,
 "nbformat_minor": 5
}
