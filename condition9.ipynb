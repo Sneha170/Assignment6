{
 "cells": [
  {
   "cell_type": "code",
   "execution_count": 1,
   "id": "c7df1bda",
   "metadata": {},
   "outputs": [
    {
     "name": "stdout",
     "output_type": "stream",
     "text": [
      "Enter quantity :5\n",
      "Quantity is  5\n",
      "Total anount to pay  500\n"
     ]
    }
   ],
   "source": [
    "a=int(input(\"Enter quantity :\"))\n",
    "print(\"Quantity is \",a)\n",
    "b=(a*100)\n",
    "if b>=1000:\n",
    "    print(\"Congrats you got discount on purchasing of :\",b)\n",
    "    c=b*(10/100)\n",
    "    print(\"Discount is \",c)\n",
    "    d=b-c\n",
    "    print(\"Total anount to pay \",d)\n",
    "else:\n",
    "    print(\"Total anount to pay \",b)"
   ]
  },
  {
   "cell_type": "code",
   "execution_count": 2,
   "id": "41dd99f0",
   "metadata": {},
   "outputs": [
    {
     "name": "stdout",
     "output_type": "stream",
     "text": [
      "Enter quantity :12\n",
      "Quantity is  12\n",
      "Congrats you got discount on purchasing of : 1200\n",
      "Discount is  120.0\n",
      "Total anount to pay  1080.0\n"
     ]
    }
   ],
   "source": [
    "a=int(input(\"Enter quantity :\"))\n",
    "print(\"Quantity is \",a)\n",
    "b=(a*100)\n",
    "if b>=1000:\n",
    "    print(\"Congrats you got discount on purchasing of :\",b)\n",
    "    c=b*(10/100)\n",
    "    print(\"Discount is \",c)\n",
    "    d=b-c\n",
    "    print(\"Total anount to pay \",d)\n",
    "else:\n",
    "    print(\"Total anount to pay \",b)"
   ]
  },
  {
   "cell_type": "code",
   "execution_count": null,
   "id": "3537bc47",
   "metadata": {},
   "outputs": [],
   "source": []
  }
 ],
 "metadata": {
  "kernelspec": {
   "display_name": "Python 3 (ipykernel)",
   "language": "python",
   "name": "python3"
  },
  "language_info": {
   "codemirror_mode": {
    "name": "ipython",
    "version": 3
   },
   "file_extension": ".py",
   "mimetype": "text/x-python",
   "name": "python",
   "nbconvert_exporter": "python",
   "pygments_lexer": "ipython3",
   "version": "3.9.13"
  }
 },
 "nbformat": 4,
 "nbformat_minor": 5
}
