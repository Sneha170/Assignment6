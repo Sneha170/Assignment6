{
 "cells": [
  {
   "cell_type": "code",
   "execution_count": 2,
   "id": "b2b0d7ae",
   "metadata": {},
   "outputs": [
    {
     "name": "stdout",
     "output_type": "stream",
     "text": [
      "input numbers\n",
      "1\n",
      "2\n",
      "3\n",
      "4\n",
      "5\n",
      "6\n",
      "7\n",
      "8\n",
      "9\n",
      "10\n",
      "average and sum of the above numbers are :  5.5 ,  55.0\n"
     ]
    }
   ],
   "source": [
    "n=10\n",
    "print(\"input numbers\")\n",
    "count=0\n",
    "sum=0.0\n",
    "for i in range(0,n):\n",
    "    number=int(input(\"\"))\n",
    "    sum=sum+number\n",
    "print(\"average and sum of the above numbers are : \",sum/(n),\", \",sum)"
   ]
  },
  {
   "cell_type": "code",
   "execution_count": null,
   "id": "f5c64e24",
   "metadata": {},
   "outputs": [],
   "source": []
  },
  {
   "cell_type": "code",
   "execution_count": null,
   "id": "608594c2",
   "metadata": {},
   "outputs": [],
   "source": []
  }
 ],
 "metadata": {
  "kernelspec": {
   "display_name": "Python 3 (ipykernel)",
   "language": "python",
   "name": "python3"
  },
  "language_info": {
   "codemirror_mode": {
    "name": "ipython",
    "version": 3
   },
   "file_extension": ".py",
   "mimetype": "text/x-python",
   "name": "python",
   "nbconvert_exporter": "python",
   "pygments_lexer": "ipython3",
   "version": "3.9.13"
  }
 },
 "nbformat": 4,
 "nbformat_minor": 5
}
