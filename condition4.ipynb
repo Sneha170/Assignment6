{
 "cells": [
  {
   "cell_type": "code",
   "execution_count": 1,
   "id": "21cf7501",
   "metadata": {},
   "outputs": [
    {
     "name": "stdout",
     "output_type": "stream",
     "text": [
      "input lengths of traingle sides \n",
      "x :6\n",
      "y :7\n",
      "z :8\n",
      "scalene traingle\n"
     ]
    }
   ],
   "source": [
    "print(\"input lengths of traingle sides \")\n",
    "x=int(input(\"x :\"))\n",
    "y=int(input(\"y :\"))\n",
    "z=int(input(\"z :\"))\n",
    "if x==y==z:\n",
    "    print(\"Equilateral traingle\")\n",
    "elif x==y or y==z or z==x:\n",
    "    print(\"Isosceles traingle\")\n",
    "else:\n",
    "    print(\"scalene traingle\")"
   ]
  },
  {
   "cell_type": "code",
   "execution_count": 2,
   "id": "c16a7099",
   "metadata": {},
   "outputs": [
    {
     "name": "stdout",
     "output_type": "stream",
     "text": [
      "input lengths of traingle sides \n",
      "x :5\n",
      "y :5\n",
      "z :10\n",
      "Isosceles traingle\n"
     ]
    }
   ],
   "source": [
    "print(\"input lengths of traingle sides \")\n",
    "x=int(input(\"x :\"))\n",
    "y=int(input(\"y :\"))\n",
    "z=int(input(\"z :\"))\n",
    "if x==y==z:\n",
    "    print(\"Equilateral traingle\")\n",
    "elif x==y or y==z or z==x:\n",
    "    print(\"Isosceles traingle\")\n",
    "else:\n",
    "    print(\"scalene traingle\")"
   ]
  },
  {
   "cell_type": "code",
   "execution_count": null,
   "id": "e663b577",
   "metadata": {},
   "outputs": [],
   "source": []
  }
 ],
 "metadata": {
  "kernelspec": {
   "display_name": "Python 3 (ipykernel)",
   "language": "python",
   "name": "python3"
  },
  "language_info": {
   "codemirror_mode": {
    "name": "ipython",
    "version": 3
   },
   "file_extension": ".py",
   "mimetype": "text/x-python",
   "name": "python",
   "nbconvert_exporter": "python",
   "pygments_lexer": "ipython3",
   "version": "3.9.13"
  }
 },
 "nbformat": 4,
 "nbformat_minor": 5
}
