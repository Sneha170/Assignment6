{
 "cells": [
  {
   "cell_type": "code",
   "execution_count": 6,
   "id": "34eaf464",
   "metadata": {},
   "outputs": [
    {
     "name": "stdout",
     "output_type": "stream",
     "text": [
      "1 3 5 7 11 13 17 19 23 29 31 37 41 43 47 53 59 61 67 71 73 79 83 89 97 101 Even list : [2, 4, 6, 8, 10, 12, 14, 16, 18, 20, 22, 24, 26, 28, 30, 32, 34, 36, 38, 40, 42, 44, 46, 48, 50, 52, 54, 56, 58, 60, 62, 64, 66, 68, 70, 72, 74, 76, 78, 80, 82, 84, 86, 88, 90, 92, 94, 96, 98, 100]\n",
      "Odd list : [1, 3, 5, 7, 9, 11, 13, 15, 17, 19, 21, 23, 25, 27, 29, 31, 33, 35, 37, 39, 41, 43, 45, 47, 49, 51, 53, 55, 57, 59, 61, 63, 65, 67, 69, 71, 73, 75, 77, 79, 81, 83, 85, 87, 89, 91, 93, 95, 97, 99]\n",
      "Prime list : [1, 3, 5, 7, 11, 13, 17, 19, 23, 29, 31, 37, 41, 43, 47, 53, 59, 61, 67, 71, 73, 79, 83, 89, 97, 101]\n"
     ]
    }
   ],
   "source": [
    "even=[]\n",
    "odd=[]\n",
    "prime=[]\n",
    "pr=101\n",
    "for num in range(1,101):\n",
    "    if (num%2==0):\n",
    "        even.append(num)\n",
    "    if (num%2!=0):\n",
    "        odd.append(num)\n",
    "a=1\n",
    "b=101\n",
    "if(a==10):\n",
    "    print(a,end=\" \")\n",
    "    a+=1\n",
    "    if(b>=2):\n",
    "        print(a,end=\" \")\n",
    "        a+=1\n",
    "if(a==2):\n",
    "    print(a,end=\" \")\n",
    "if(a%2==0):\n",
    "    a+=1\n",
    "for i in range(a,b+1,2):\n",
    "    flag=1\n",
    "    j=2\n",
    "    while(j*j<=i):\n",
    "        if(i%j==0):\n",
    "            flag=0\n",
    "            break\n",
    "        j+=1\n",
    "    if(flag==1):\n",
    "        print(i,end=\" \")\n",
    "        prime.append(i)\n",
    "print(\"Even list :\",even)\n",
    "print(\"Odd list :\",odd)\n",
    "print(\"Prime list :\",prime)"
   ]
  },
  {
   "cell_type": "code",
   "execution_count": null,
   "id": "a5c938b5",
   "metadata": {},
   "outputs": [],
   "source": []
  }
 ],
 "metadata": {
  "kernelspec": {
   "display_name": "Python 3 (ipykernel)",
   "language": "python",
   "name": "python3"
  },
  "language_info": {
   "codemirror_mode": {
    "name": "ipython",
    "version": 3
   },
   "file_extension": ".py",
   "mimetype": "text/x-python",
   "name": "python",
   "nbconvert_exporter": "python",
   "pygments_lexer": "ipython3",
   "version": "3.9.13"
  }
 },
 "nbformat": 4,
 "nbformat_minor": 5
}
