{
 "cells": [
  {
   "cell_type": "code",
   "execution_count": 1,
   "id": "a07c6e7b",
   "metadata": {},
   "outputs": [
    {
     "name": "stdout",
     "output_type": "stream",
     "text": [
      "Enter year of service :5\n",
      "Enter salary :20000\n",
      "Net bonus amount  20000.0\n"
     ]
    }
   ],
   "source": [
    "year=int(input(\"Enter year of service :\"))\n",
    "sal=float(input(\"Enter salary :\"))\n",
    "if year>5:\n",
    "    print(\"Congrats you bouns 5% :\")\n",
    "    b=sal*(5/100)\n",
    "    c=sal+b\n",
    "    print(\"Bonus is \",c)\n",
    "    print(\"Net bonus amount \",c)\n",
    "else:\n",
    "    print(\"Net bonus amount \",sal)"
   ]
  },
  {
   "cell_type": "code",
   "execution_count": 3,
   "id": "2d628ed6",
   "metadata": {},
   "outputs": [
    {
     "name": "stdout",
     "output_type": "stream",
     "text": [
      "Enter year of service :6\n",
      "Enter salary :20000\n",
      "Congrats you bouns 5% :\n",
      "Bonus is  21000.0\n",
      "Net bonus amount  21000.0\n"
     ]
    }
   ],
   "source": [
    "year=int(input(\"Enter year of service :\"))\n",
    "sal=float(input(\"Enter salary :\"))\n",
    "if year>5:\n",
    "    print(\"Congrats you bouns 5% :\")\n",
    "    b=sal*(5/100)\n",
    "    c=sal+b\n",
    "    print(\"Bonus is \",c)\n",
    "    print(\"Net bonus amount \",c)\n",
    "else:\n",
    "    print(\"Net bonus amount \",sal)"
   ]
  },
  {
   "cell_type": "code",
   "execution_count": null,
   "id": "0ae134c4",
   "metadata": {},
   "outputs": [],
   "source": []
  },
  {
   "cell_type": "code",
   "execution_count": null,
   "id": "7e54f346",
   "metadata": {},
   "outputs": [],
   "source": []
  }
 ],
 "metadata": {
  "kernelspec": {
   "display_name": "Python 3 (ipykernel)",
   "language": "python",
   "name": "python3"
  },
  "language_info": {
   "codemirror_mode": {
    "name": "ipython",
    "version": 3
   },
   "file_extension": ".py",
   "mimetype": "text/x-python",
   "name": "python",
   "nbconvert_exporter": "python",
   "pygments_lexer": "ipython3",
   "version": "3.9.13"
  }
 },
 "nbformat": 4,
 "nbformat_minor": 5
}
