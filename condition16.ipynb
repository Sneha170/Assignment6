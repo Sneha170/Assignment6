{
 "cells": [
  {
   "cell_type": "code",
   "execution_count": 3,
   "id": "e91df786",
   "metadata": {},
   "outputs": [
    {
     "name": "stdout",
     "output_type": "stream",
     "text": [
      "Enter number of elements :5\n",
      "1\n",
      "2\n",
      "3\n",
      "4\n",
      "5\n",
      "[1, 2, 3, 4, 5]\n",
      "Enter the element in list :2\n",
      "New list : [1, 3, 4, 5]\n"
     ]
    }
   ],
   "source": [
    "lst=[]\n",
    "n=int(input(\"Enter number of elements :\"))\n",
    "for i in range(0,n):\n",
    "    ele=int(input())\n",
    "    lst.append(ele)\n",
    "print(lst)\n",
    "x=int(input(\"Enter the element in list :\"))\n",
    "if x in lst:\n",
    "    lst.remove(x)\n",
    "print(\"New list :\",lst)\n"
   ]
  },
  {
   "cell_type": "code",
   "execution_count": null,
   "id": "6c9e731f",
   "metadata": {},
   "outputs": [],
   "source": []
  },
  {
   "cell_type": "code",
   "execution_count": null,
   "id": "fc31a178",
   "metadata": {},
   "outputs": [],
   "source": []
  }
 ],
 "metadata": {
  "kernelspec": {
   "display_name": "Python 3 (ipykernel)",
   "language": "python",
   "name": "python3"
  },
  "language_info": {
   "codemirror_mode": {
    "name": "ipython",
    "version": 3
   },
   "file_extension": ".py",
   "mimetype": "text/x-python",
   "name": "python",
   "nbconvert_exporter": "python",
   "pygments_lexer": "ipython3",
   "version": "3.9.13"
  }
 },
 "nbformat": 4,
 "nbformat_minor": 5
}
