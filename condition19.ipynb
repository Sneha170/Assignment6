{
 "cells": [
  {
   "cell_type": "code",
   "execution_count": 6,
   "id": "7641cd42",
   "metadata": {},
   "outputs": [
    {
     "name": "stdout",
     "output_type": "stream",
     "text": [
      "Intreger values [1, 2, 3]\n",
      "floating values [3.14, 4.5]\n",
      "String values ['a', 'b', 'c']\n"
     ]
    }
   ],
   "source": [
    "mylist=[1,'a',2,3.14,'b',3,'c',4.5]\n",
    "from collections import defaultdict\n",
    "d=defaultdict(list)\n",
    "for x in mylist:\n",
    "    d[type(x)].append(x)\n",
    "print(\"Intreger values\",d[int])\n",
    "print(\"floating values\",d[float])\n",
    "print(\"String values\",d[str])"
   ]
  },
  {
   "cell_type": "code",
   "execution_count": null,
   "id": "ca2bf58f",
   "metadata": {},
   "outputs": [],
   "source": []
  }
 ],
 "metadata": {
  "kernelspec": {
   "display_name": "Python 3 (ipykernel)",
   "language": "python",
   "name": "python3"
  },
  "language_info": {
   "codemirror_mode": {
    "name": "ipython",
    "version": 3
   },
   "file_extension": ".py",
   "mimetype": "text/x-python",
   "name": "python",
   "nbconvert_exporter": "python",
   "pygments_lexer": "ipython3",
   "version": "3.9.13"
  }
 },
 "nbformat": 4,
 "nbformat_minor": 5
}
